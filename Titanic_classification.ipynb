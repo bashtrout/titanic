{
 "cells": [
  {
   "cell_type": "code",
   "execution_count": 48,
   "metadata": {},
   "outputs": [],
   "source": [
    "import pandas as pd\n",
    "import numpy as np\n",
    "from sklearn.ensemble import RandomForestClassifier\n",
    "from sklearn.datasets import make_classification"
   ]
  },
  {
   "cell_type": "code",
   "execution_count": 49,
   "metadata": {},
   "outputs": [],
   "source": [
    "# dataframe preprocessing:\n",
    "#drop useless information (Name, Ticket, Cabin, PassengerID)\n",
    "#change object variables to numeric (Sex: male - 1, female - 2; Emaberked: S - 1, C - 2, Q - 3)\n",
    "# fill missed values (mean or mode)\n",
    "def df_preproces (data):\n",
    "    data = pd.DataFrame(data)    \n",
    "    new_data = data.drop(['Name', 'PassengerId', 'Ticket', 'Cabin'], axis =1)\n",
    "    new_data['Gender'] = new_data['Sex'].map({'male':1, 'female':2})\n",
    "    new_data = new_data.drop('Sex', axis =1)\n",
    "    new_data['Age'].fillna(new_data['Age'].mean(), inplace = True)\n",
    "    new_data['Fare'].fillna(new_data['Fare'].mean(), inplace = True)\n",
    "    new_data['Embarked'].fillna(new_data['Embarked'].mode()[0], inplace = True)\n",
    "    new_data['Embarked'] = new_data['Embarked'].map({'S':1, 'C':2, 'Q':3})\n",
    "    return new_data"
   ]
  },
  {
   "cell_type": "code",
   "execution_count": 50,
   "metadata": {},
   "outputs": [],
   "source": [
    "#read train dataframe\n",
    "df = pd.read_csv('titanic_train.csv')\n",
    "#split features and target features\n",
    "df_answer = df['Survived']\n",
    "df = df.drop('Survived', axis = 1)\n",
    "#preprocessing features dataframe\n",
    "df = df_preproces(df)"
   ]
  },
  {
   "cell_type": "code",
   "execution_count": 51,
   "metadata": {},
   "outputs": [
    {
     "data": {
      "text/plain": [
       "RandomForestClassifier(bootstrap=True, class_weight=None, criterion='gini',\n",
       "                       max_depth=5, max_features='auto', max_leaf_nodes=None,\n",
       "                       min_impurity_decrease=0.0, min_impurity_split=None,\n",
       "                       min_samples_leaf=1, min_samples_split=2,\n",
       "                       min_weight_fraction_leaf=0.0, n_estimators=100,\n",
       "                       n_jobs=None, oob_score=False, random_state=1, verbose=0,\n",
       "                       warm_start=False)"
      ]
     },
     "execution_count": 51,
     "metadata": {},
     "output_type": "execute_result"
    }
   ],
   "source": [
    "#choose Random Forest Classifier for train\n",
    "model = RandomForestClassifier(n_estimators=100, max_depth=5, random_state=1)\n",
    "model.fit(df,df_answer)"
   ]
  },
  {
   "cell_type": "code",
   "execution_count": 52,
   "metadata": {},
   "outputs": [],
   "source": [
    "#open test dataframe, preprocesing it\n",
    "test_df = pd.read_csv('titanic_test.csv')\n",
    "test_df_id = pd.DataFrame(test_df['PassengerId'])\n",
    "test_df = df_preproces(test_df)"
   ]
  },
  {
   "cell_type": "code",
   "execution_count": 53,
   "metadata": {},
   "outputs": [],
   "source": [
    "#make prediction for test data\n",
    "prediction = pd.DataFrame(model.predict(test_df))"
   ]
  },
  {
   "cell_type": "code",
   "execution_count": 55,
   "metadata": {},
   "outputs": [],
   "source": [
    "#join id from test data and prediction, rename columns to Kaggle format, then save prediction\n",
    "prediction = test_df_id.join(prediction)\n",
    "prediction = prediction.rename(columns={\"PassengerId\": \"PassengerId\", 0: \"Survived\"})\n",
    "prediction.to_csv('submission.csv',index=False)\n",
    "#the end."
   ]
  },
  {
   "cell_type": "code",
   "execution_count": null,
   "metadata": {},
   "outputs": [],
   "source": []
  }
 ],
 "metadata": {
  "kernelspec": {
   "display_name": "Python 3",
   "language": "python",
   "name": "python3"
  },
  "language_info": {
   "codemirror_mode": {
    "name": "ipython",
    "version": 3
   },
   "file_extension": ".py",
   "mimetype": "text/x-python",
   "name": "python",
   "nbconvert_exporter": "python",
   "pygments_lexer": "ipython3",
   "version": "3.5.2"
  }
 },
 "nbformat": 4,
 "nbformat_minor": 4
}
